{
 "cells": [
  {
   "cell_type": "code",
   "execution_count": 3,
   "metadata": {},
   "outputs": [
    {
     "ename": "AttributeError",
     "evalue": "'dict' object has no attribute 'iterrows'",
     "output_type": "error",
     "traceback": [
      "\u001b[0;31m---------------------------------------------------------------------------\u001b[0m",
      "\u001b[0;31mAttributeError\u001b[0m                            Traceback (most recent call last)",
      "Cell \u001b[0;32mIn[3], line 24\u001b[0m\n\u001b[1;32m     16\u001b[0m spotify_wrapper \u001b[38;5;241m=\u001b[39m SpotifyAPIWrapper\u001b[38;5;241m.\u001b[39mSpotifyAPIWrapper()\n\u001b[1;32m     17\u001b[0m test_song_details \u001b[38;5;241m=\u001b[39m {\n\u001b[1;32m     18\u001b[0m     \u001b[38;5;124m'\u001b[39m\u001b[38;5;124mindex\u001b[39m\u001b[38;5;124m'\u001b[39m: [\u001b[38;5;241m0\u001b[39m],\n\u001b[1;32m     19\u001b[0m     \u001b[38;5;124m'\u001b[39m\u001b[38;5;124mtitle\u001b[39m\u001b[38;5;124m'\u001b[39m: [\u001b[38;5;124m'\u001b[39m\u001b[38;5;124mJackpot (The Him Remix)\u001b[39m\u001b[38;5;124m'\u001b[39m],\n\u001b[0;32m   (...)\u001b[0m\n\u001b[1;32m     22\u001b[0m     \u001b[38;5;124m'\u001b[39m\u001b[38;5;124martit\u001b[39m\u001b[38;5;124m'\u001b[39m: [\u001b[38;5;124m'\u001b[39m\u001b[38;5;124mJocelyn Alice\u001b[39m\u001b[38;5;124m'\u001b[39m]\n\u001b[1;32m     23\u001b[0m }\n\u001b[0;32m---> 24\u001b[0m input_song_features \u001b[38;5;241m=\u001b[39m spotify_wrapper\u001b[38;5;241m.\u001b[39mgetFeatures(test_song_details)\n\u001b[1;32m     26\u001b[0m input_song_features\n",
      "File \u001b[0;32m~/Desktop/RandomCodingStuff/AiTunes/Reccomender/SpotifyAPIWrapper.py:91\u001b[0m, in \u001b[0;36mSpotifyAPIWrapper.getFeatures\u001b[0;34m(self, songsDF)\u001b[0m\n\u001b[1;32m     87\u001b[0m tempo \u001b[38;5;241m=\u001b[39m []\n\u001b[1;32m     88\u001b[0m valence \u001b[38;5;241m=\u001b[39m []\n\u001b[0;32m---> 91\u001b[0m \u001b[38;5;28;01mfor\u001b[39;00m _, row \u001b[38;5;129;01min\u001b[39;00m songsDF\u001b[38;5;241m.\u001b[39miterrows():\n\u001b[1;32m     92\u001b[0m     uri \u001b[38;5;241m=\u001b[39m row[\u001b[38;5;124m'\u001b[39m\u001b[38;5;124muri\u001b[39m\u001b[38;5;124m'\u001b[39m]\n\u001b[1;32m     93\u001b[0m     \u001b[38;5;28;01mif\u001b[39;00m(\u001b[38;5;129;01mnot\u001b[39;00m \u001b[38;5;28misinstance\u001b[39m(uri,\u001b[38;5;28mstr\u001b[39m)):\n",
      "\u001b[0;31mAttributeError\u001b[0m: 'dict' object has no attribute 'iterrows'"
     ]
    }
   ],
   "source": [
    "import pandas as pd\n",
    "from sklearn.metrics.pairwise import cosine_similarity\n",
    "import SpotifyAPIWrapper\n",
    "\n",
    "# Replace 'your_file_path.csv' with the actual path of your CSV file\n",
    "file_path = 'Data/Training/Train.csv'\n",
    "# Read the CSV file into a DataFrame\n",
    "df = pd.read_csv(file_path)\n",
    "\n",
    "# Assuming the DataFrame df contains only the features of the songs\n",
    "# Convert the DataFrame into a NumPy array for the computation\n",
    "songs_features = df.to_numpy()\n",
    "\n",
    "# Define the new song's features\n",
    "# Replace this with the actual features of the new song\n",
    "spotify_wrapper = SpotifyAPIWrapper.SpotifyAPIWrapper()\n",
    "test_song_details = {\n",
    "    'index': [0],\n",
    "    'title': ['Jackpot (The Him Remix)'],\n",
    "    'uri': ['6NSjdFYF2zxgQ7UvsKoRxy'],\n",
    "    'genre': [['canadian electropop']],\n",
    "    'artit': ['Jocelyn Alice']\n",
    "}\n",
    "test_song_df = pd.DataFrame(test_song_details)\n",
    "\n",
    "input_song_features = spotify_wrapper.getFeatures(test_song_df)\n",
    "\n",
    "input_song_features"
   ]
  },
  {
   "cell_type": "code",
   "execution_count": null,
   "metadata": {},
   "outputs": [],
   "source": [
    "# Compute cosine similarity between the new song and all songs in the dataset\n",
    "similarities = cosine_similarity(new_song_features, songs_features)\n",
    "\n",
    "# Find the index of the closest song\n",
    "closest_song_index = np.argmax(similarities)\n",
    "\n",
    "# Find the most similar song from the original dataset\n",
    "closest_song = df.iloc[closest_song_index]\n",
    "\n",
    "print(f\"The closest song is at index {closest_song_index} with features {closest_song.values}\")"
   ]
  }
 ],
 "metadata": {
  "kernelspec": {
   "display_name": "base",
   "language": "python",
   "name": "python3"
  },
  "language_info": {
   "codemirror_mode": {
    "name": "ipython",
    "version": 3
   },
   "file_extension": ".py",
   "mimetype": "text/x-python",
   "name": "python",
   "nbconvert_exporter": "python",
   "pygments_lexer": "ipython3",
   "version": "3.11.5"
  }
 },
 "nbformat": 4,
 "nbformat_minor": 2
}
