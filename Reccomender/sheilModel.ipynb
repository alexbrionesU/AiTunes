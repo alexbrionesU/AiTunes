{
 "cells": [
  {
   "cell_type": "code",
   "execution_count": 46,
   "metadata": {},
   "outputs": [
    {
     "data": {
      "text/html": [
       "<div>\n",
       "<style scoped>\n",
       "    .dataframe tbody tr th:only-of-type {\n",
       "        vertical-align: middle;\n",
       "    }\n",
       "\n",
       "    .dataframe tbody tr th {\n",
       "        vertical-align: top;\n",
       "    }\n",
       "\n",
       "    .dataframe thead th {\n",
       "        text-align: right;\n",
       "    }\n",
       "</style>\n",
       "<table border=\"1\" class=\"dataframe\">\n",
       "  <thead>\n",
       "    <tr style=\"text-align: right;\">\n",
       "      <th></th>\n",
       "      <th>name</th>\n",
       "      <th>acousticness</th>\n",
       "      <th>danceability</th>\n",
       "      <th>energy</th>\n",
       "      <th>instrumentalness</th>\n",
       "      <th>liveness</th>\n",
       "      <th>loudness</th>\n",
       "      <th>speechiness</th>\n",
       "      <th>tempo</th>\n",
       "      <th>valence</th>\n",
       "    </tr>\n",
       "  </thead>\n",
       "  <tbody>\n",
       "    <tr>\n",
       "      <th>0</th>\n",
       "      <td>Pound Town 2 (feat. Nicki Minaj &amp; Tay Keith)</td>\n",
       "      <td>0.174</td>\n",
       "      <td>0.637</td>\n",
       "      <td>0.634</td>\n",
       "      <td>0</td>\n",
       "      <td>0.149</td>\n",
       "      <td>-8.126</td>\n",
       "      <td>0.426</td>\n",
       "      <td>178.037</td>\n",
       "      <td>0.49</td>\n",
       "    </tr>\n",
       "  </tbody>\n",
       "</table>\n",
       "</div>"
      ],
      "text/plain": [
       "                                           name  acousticness  danceability  \\\n",
       "0  Pound Town 2 (feat. Nicki Minaj & Tay Keith)         0.174         0.637   \n",
       "\n",
       "   energy  instrumentalness  liveness  loudness  speechiness    tempo  valence  \n",
       "0   0.634                 0     0.149    -8.126        0.426  178.037     0.49  "
      ]
     },
     "execution_count": 46,
     "metadata": {},
     "output_type": "execute_result"
    }
   ],
   "source": [
    "import pandas as pd\n",
    "import numpy as np\n",
    "from sklearn.metrics.pairwise import cosine_similarity\n",
    "import SpotifyAPIWrapper\n",
    "\n",
    "\n",
    "file_path = 'Data/Training/Train.csv'\n",
    "\n",
    "song_features = pd.read_csv(file_path)\n",
    "spotify_wrapper = SpotifyAPIWrapper.SpotifyAPIWrapper()\n",
    "test_song_details = {\n",
    "    'index': [0],\n",
    "    'name': ['Pound Town 2 (feat. Nicki Minaj & Tay Keith)'],\n",
    "    'uri': ['6IEXjer2qbXhRLFv99NQQv'],\n",
    "    'genre': [['trap queen']],\n",
    "    'artit': ['Sexyy Red']\n",
    "}\n",
    "test_song_df = pd.DataFrame(test_song_details)\n",
    "\n",
    "input_song_features = spotify_wrapper.getFeatures(test_song_df)\n",
    "\n",
    "input_song_features"
   ]
  },
  {
   "cell_type": "code",
   "execution_count": 47,
   "metadata": {},
   "outputs": [],
   "source": [
    "#Code to drop strings from DF before putting into cosine similarity \n",
    "input_song_features.drop(columns='name', inplace=True)\n",
    "song_features.drop(columns='name', inplace=True)"
   ]
  },
  {
   "cell_type": "code",
   "execution_count": 48,
   "metadata": {},
   "outputs": [
    {
     "name": "stdout",
     "output_type": "stream",
     "text": [
      "The closest song is at index 961 with features ['when u need me.' 0.157 0.626 0.601 1.38e-05 0.133 -7.455 0.24 166.026\n",
      " 0.272]\n"
     ]
    }
   ],
   "source": [
    "# Compute cosine similarity between the new song and all songs in the dataset\n",
    "\n",
    "similarities = cosine_similarity(input_song_features, song_features)\n",
    "\n",
    "# Find the index of the closest song\n",
    "closest_song_index = np.argmax(similarities)\n",
    "\n",
    "# Find the most similar song from the original dataset\n",
    "closest_song = df.iloc[closest_song_index]\n",
    "\n",
    "print(f\"The closest song is at index {closest_song_index} with features {closest_song.values}\")"
   ]
  }
 ],
 "metadata": {
  "kernelspec": {
   "display_name": "base",
   "language": "python",
   "name": "python3"
  },
  "language_info": {
   "codemirror_mode": {
    "name": "ipython",
    "version": 3
   },
   "file_extension": ".py",
   "mimetype": "text/x-python",
   "name": "python",
   "nbconvert_exporter": "python",
   "pygments_lexer": "ipython3",
   "version": "3.11.5"
  }
 },
 "nbformat": 4,
 "nbformat_minor": 2
}
