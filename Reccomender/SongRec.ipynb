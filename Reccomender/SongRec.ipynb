{
 "cells": [
  {
   "cell_type": "code",
   "execution_count": 1,
   "metadata": {},
   "outputs": [],
   "source": [
    "import SpotifyAPIWrapper\n",
    "import Visualizer\n",
    "import pandas as pd\n",
    "import numpy as np\n",
    "import spotipy\n"
   ]
  },
  {
   "cell_type": "code",
   "execution_count": 2,
   "metadata": {},
   "outputs": [
    {
     "name": "stdout",
     "output_type": "stream",
     "text": [
      "{'collaborative': False, 'description': 'You bring the ingredients, we bring the flavor. Enjoy la cena...', 'external_urls': {'spotify': 'https://open.spotify.com/playlist/37i9dQZF1DX2zAr9vdmFlU'}, 'href': 'https://api.spotify.com/v1/playlists/37i9dQZF1DX2zAr9vdmFlU', 'id': '37i9dQZF1DX2zAr9vdmFlU', 'images': [{'height': None, 'url': 'https://i.scdn.co/image/ab67706f000000039b14583a15b3047fee20d36b', 'width': None}], 'name': 'Latin Dinner', 'owner': {'display_name': 'Spotify', 'external_urls': {'spotify': 'https://open.spotify.com/user/spotify'}, 'href': 'https://api.spotify.com/v1/users/spotify', 'id': 'spotify', 'type': 'user', 'uri': 'spotify:user:spotify'}, 'primary_color': None, 'public': True, 'snapshot_id': 'MTcwNzI1NTg3MCwwMDAwMDAwMDA5M2EwMDZhNDBlM2FjMGE5ZjEwNmRiMzg0YWUxOTYy', 'tracks': {'href': 'https://api.spotify.com/v1/playlists/37i9dQZF1DX2zAr9vdmFlU/tracks', 'total': 100}, 'type': 'playlist', 'uri': 'spotify:playlist:37i9dQZF1DX2zAr9vdmFlU'}\n",
      "{'collaborative': False, 'description': '', 'external_urls': {'spotify': 'https://open.spotify.com/playlist/16gMkLIFb61VznqN1w8gNN'}, 'href': 'https://api.spotify.com/v1/playlists/16gMkLIFb61VznqN1w8gNN', 'id': '16gMkLIFb61VznqN1w8gNN', 'images': [{'height': 640, 'url': 'https://mosaic.scdn.co/640/ab67616d0000b27308b9711bf1f3fa23c355f4d8ab67616d0000b27362ac1dce179d8f6b91cc9ca9ab67616d0000b273b136694450c4f76f36fae8acab67616d0000b273ee348848ecc62cd3248831ca', 'width': 640}, {'height': 300, 'url': 'https://mosaic.scdn.co/300/ab67616d0000b27308b9711bf1f3fa23c355f4d8ab67616d0000b27362ac1dce179d8f6b91cc9ca9ab67616d0000b273b136694450c4f76f36fae8acab67616d0000b273ee348848ecc62cd3248831ca', 'width': 300}, {'height': 60, 'url': 'https://mosaic.scdn.co/60/ab67616d0000b27308b9711bf1f3fa23c355f4d8ab67616d0000b27362ac1dce179d8f6b91cc9ca9ab67616d0000b273b136694450c4f76f36fae8acab67616d0000b273ee348848ecc62cd3248831ca', 'width': 60}], 'name': 'swag', 'owner': {'display_name': 'chris0927', 'external_urls': {'spotify': 'https://open.spotify.com/user/chris0927'}, 'href': 'https://api.spotify.com/v1/users/chris0927', 'id': 'chris0927', 'type': 'user', 'uri': 'spotify:user:chris0927'}, 'primary_color': None, 'public': True, 'snapshot_id': 'MTksMTkyYmEyNTRiOGE3ODc1MGI1OGFhMTNkNThlMzU1MmU2NDAzMmZiZQ==', 'tracks': {'href': 'https://api.spotify.com/v1/playlists/16gMkLIFb61VznqN1w8gNN/tracks', 'total': 13}, 'type': 'playlist', 'uri': 'spotify:playlist:16gMkLIFb61VznqN1w8gNN'}\n",
      "{'collaborative': False, 'description': '', 'external_urls': {'spotify': 'https://open.spotify.com/playlist/0aWiePJiqLUV2zyn71th1Z'}, 'href': 'https://api.spotify.com/v1/playlists/0aWiePJiqLUV2zyn71th1Z', 'id': '0aWiePJiqLUV2zyn71th1Z', 'images': [{'height': 640, 'url': 'https://i.scdn.co/image/ab67616d0000b273f5b6f2c281eb11ea287e6254', 'width': 640}], 'name': 'New Playlist', 'owner': {'display_name': 'chris0927', 'external_urls': {'spotify': 'https://open.spotify.com/user/chris0927'}, 'href': 'https://api.spotify.com/v1/users/chris0927', 'id': 'chris0927', 'type': 'user', 'uri': 'spotify:user:chris0927'}, 'primary_color': None, 'public': True, 'snapshot_id': 'Miw5N2M5MTU1YzkyNzFmYTExNmMzYmVkMTk5NjgwMzY3ZTAwMDQ3ODNj', 'tracks': {'href': 'https://api.spotify.com/v1/playlists/0aWiePJiqLUV2zyn71th1Z/tracks', 'total': 1}, 'type': 'playlist', 'uri': 'spotify:playlist:0aWiePJiqLUV2zyn71th1Z'}\n"
     ]
    }
   ],
   "source": [
    "spotify_wrapper = SpotifyAPIWrapper.SpotifyAPIWrapper()\n",
    "spotify_wrapper.getUsersPlaylists('chris0927')"
   ]
  },
  {
   "cell_type": "code",
   "execution_count": null,
   "metadata": {},
   "outputs": [],
   "source": []
  },
  {
   "cell_type": "code",
   "execution_count": null,
   "metadata": {},
   "outputs": [],
   "source": []
  }
 ],
 "metadata": {
  "kernelspec": {
   "display_name": "Python 3",
   "language": "python",
   "name": "python3"
  },
  "language_info": {
   "codemirror_mode": {
    "name": "ipython",
    "version": 3
   },
   "file_extension": ".py",
   "mimetype": "text/x-python",
   "name": "python",
   "nbconvert_exporter": "python",
   "pygments_lexer": "ipython3",
   "version": "3.11.7"
  }
 },
 "nbformat": 4,
 "nbformat_minor": 2
}
