{
 "cells": [
  {
   "cell_type": "code",
   "execution_count": 1,
   "metadata": {},
   "outputs": [],
   "source": [
    "import SpotifyAPIWrapper\n",
    "import Visualizer\n",
    "import pandas as pd\n",
    "import numpy as np\n",
    "import spotipy\n"
   ]
  },
  {
   "cell_type": "code",
   "execution_count": 2,
   "metadata": {},
   "outputs": [
    {
     "data": {
      "text/html": [
       "<div>\n",
       "<style scoped>\n",
       "    .dataframe tbody tr th:only-of-type {\n",
       "        vertical-align: middle;\n",
       "    }\n",
       "\n",
       "    .dataframe tbody tr th {\n",
       "        vertical-align: top;\n",
       "    }\n",
       "\n",
       "    .dataframe thead th {\n",
       "        text-align: right;\n",
       "    }\n",
       "</style>\n",
       "<table border=\"1\" class=\"dataframe\">\n",
       "  <thead>\n",
       "    <tr style=\"text-align: right;\">\n",
       "      <th></th>\n",
       "      <th>name</th>\n",
       "      <th>uris</th>\n",
       "    </tr>\n",
       "  </thead>\n",
       "  <tbody>\n",
       "    <tr>\n",
       "      <th>0</th>\n",
       "      <td>Latin Dinner</td>\n",
       "      <td>37i9dQZF1DX2zAr9vdmFlU</td>\n",
       "    </tr>\n",
       "    <tr>\n",
       "      <th>1</th>\n",
       "      <td>swag</td>\n",
       "      <td>16gMkLIFb61VznqN1w8gNN</td>\n",
       "    </tr>\n",
       "    <tr>\n",
       "      <th>2</th>\n",
       "      <td>New Playlist</td>\n",
       "      <td>0aWiePJiqLUV2zyn71th1Z</td>\n",
       "    </tr>\n",
       "  </tbody>\n",
       "</table>\n",
       "</div>"
      ],
      "text/plain": [
       "           name                    uris\n",
       "0  Latin Dinner  37i9dQZF1DX2zAr9vdmFlU\n",
       "1          swag  16gMkLIFb61VznqN1w8gNN\n",
       "2  New Playlist  0aWiePJiqLUV2zyn71th1Z"
      ]
     },
     "execution_count": 2,
     "metadata": {},
     "output_type": "execute_result"
    }
   ],
   "source": [
    "spotify_wrapper = SpotifyAPIWrapper.SpotifyAPIWrapper()\n",
    "user_playlist_df = spotify_wrapper.getUsersPlaylists('chris0927')\n",
    "user_playlist_df"
   ]
  },
  {
   "cell_type": "code",
   "execution_count": 3,
   "metadata": {},
   "outputs": [
    {
     "ename": "AttributeError",
     "evalue": "module 'pandas' has no attribute 'DataFram'",
     "output_type": "error",
     "traceback": [
      "\u001b[0;31m---------------------------------------------------------------------------\u001b[0m",
      "\u001b[0;31mAttributeError\u001b[0m                            Traceback (most recent call last)",
      "Cell \u001b[0;32mIn[3], line 2\u001b[0m\n\u001b[1;32m      1\u001b[0m \u001b[38;5;66;03m#0Vjhah37el0Aq5yoRaujBz\u001b[39;00m\n\u001b[0;32m----> 2\u001b[0m energetic_df \u001b[38;5;241m=\u001b[39m \u001b[43mspotify_wrapper\u001b[49m\u001b[38;5;241;43m.\u001b[39;49m\u001b[43mgetSongsFromPlaylist\u001b[49m\u001b[43m(\u001b[49m\u001b[38;5;124;43m'\u001b[39;49m\u001b[38;5;124;43m0Vjhah37el0Aq5yoRaujBz\u001b[39;49m\u001b[38;5;124;43m'\u001b[39;49m\u001b[43m,\u001b[49m\u001b[43m \u001b[49m\u001b[38;5;124;43m'\u001b[39;49m\u001b[38;5;124;43mJeffry Harrison\u001b[39;49m\u001b[38;5;124;43m'\u001b[39;49m\u001b[43m)\u001b[49m\n\u001b[1;32m      3\u001b[0m energetic_df\n",
      "File \u001b[0;32m~/Desktop/AiTunes/Reccomender/SpotifyAPIWrapper.py:74\u001b[0m, in \u001b[0;36mSpotifyAPIWrapper.getSongsFromPlaylist\u001b[0;34m(self, uri, username, name)\u001b[0m\n\u001b[1;32m     71\u001b[0m genres \u001b[38;5;241m=\u001b[39m [\u001b[38;5;28mtuple\u001b[39m[\u001b[38;5;241m2\u001b[39m] \u001b[38;5;28;01mfor\u001b[39;00m \u001b[38;5;28mtuple\u001b[39m \u001b[38;5;129;01min\u001b[39;00m song_list]\n\u001b[1;32m     72\u001b[0m artists \u001b[38;5;241m=\u001b[39m [\u001b[38;5;28mtuple\u001b[39m[\u001b[38;5;241m3\u001b[39m] \u001b[38;5;28;01mfor\u001b[39;00m \u001b[38;5;28mtuple\u001b[39m \u001b[38;5;129;01min\u001b[39;00m song_list]\n\u001b[0;32m---> 74\u001b[0m \u001b[38;5;28;01mreturn\u001b[39;00m \u001b[43mpd\u001b[49m\u001b[38;5;241;43m.\u001b[39;49m\u001b[43mDataFram\u001b[49m(data\u001b[38;5;241m=\u001b[39m{\u001b[38;5;124m'\u001b[39m\u001b[38;5;124msong names\u001b[39m\u001b[38;5;124m'\u001b[39m:song_names, \u001b[38;5;124m'\u001b[39m\u001b[38;5;124muris\u001b[39m\u001b[38;5;124m'\u001b[39m:uris, \u001b[38;5;124m'\u001b[39m\u001b[38;5;124mgenres\u001b[39m\u001b[38;5;124m'\u001b[39m:genres, \u001b[38;5;124m'\u001b[39m\u001b[38;5;124martists\u001b[39m\u001b[38;5;124m'\u001b[39m:artists})\n",
      "\u001b[0;31mAttributeError\u001b[0m: module 'pandas' has no attribute 'DataFram'"
     ]
    }
   ],
   "source": [
    "#0Vjhah37el0Aq5yoRaujBz\n",
    "energetic_df = spotify_wrapper.getSongsFromPlaylist('0Vjhah37el0Aq5yoRaujBz', 'Jeffry Harrison')\n",
    "energetic_df"
   ]
  },
  {
   "cell_type": "code",
   "execution_count": null,
   "metadata": {},
   "outputs": [],
   "source": []
  }
 ],
 "metadata": {
  "kernelspec": {
   "display_name": "Python 3",
   "language": "python",
   "name": "python3"
  },
  "language_info": {
   "codemirror_mode": {
    "name": "ipython",
    "version": 3
   },
   "file_extension": ".py",
   "mimetype": "text/x-python",
   "name": "python",
   "nbconvert_exporter": "python",
   "pygments_lexer": "ipython3",
   "version": "3.11.7"
  }
 },
 "nbformat": 4,
 "nbformat_minor": 2
}
