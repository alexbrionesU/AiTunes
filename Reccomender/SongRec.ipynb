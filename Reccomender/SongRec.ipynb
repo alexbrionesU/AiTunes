{
 "cells": [
  {
   "cell_type": "code",
   "execution_count": null,
   "metadata": {},
   "outputs": [],
   "source": [
    "import SpotifyAPIWrapper\n",
    "import Visualizer\n",
    "import pandas as pd\n",
    "import numpy as np\n",
    "import spotipy\n"
   ]
  },
  {
   "cell_type": "code",
   "execution_count": null,
   "metadata": {},
   "outputs": [],
   "source": [
    "spotify_wrapper = SpotifyAPIWrapper.SpotifyAPIWrapper()\n",
    "user_playlist_df = spotify_wrapper.getUsersPlaylists('chris0927')\n",
    "user_playlist_df"
   ]
  },
  {
   "cell_type": "code",
   "execution_count": null,
   "metadata": {},
   "outputs": [],
   "source": [
    "#0Vjhah37el0Aq5yoRaujBz\n",
    "energetic_df = spotify_wrapper.getSongsFromPlaylist('0Vjhah37el0Aq5yoRaujBz', 'Jeffry Harrison')\n",
    "energetic_df"
   ]
  },
  {
   "cell_type": "code",
   "execution_count": null,
   "metadata": {},
   "outputs": [],
   "source": [
    "happy_df1 = spotify_wrapper.getSongsFromPlaylist('4AnAUkQNrLKlJCInZGSXRO', 'Indiemono')\n",
    "happy_df1"
   ]
  },
  {
   "cell_type": "code",
   "execution_count": null,
   "metadata": {},
   "outputs": [],
   "source": [
    "happy_df2 = spotify_wrapper.getSongsFromPlaylist('3d67ufMEJnDAd8PBsVBF8m', 'Greatist')\n",
    "happy_df2"
   ]
  },
  {
   "cell_type": "code",
   "execution_count": null,
   "metadata": {},
   "outputs": [],
   "source": [
    "happy_df = pd.concat([happy_df1, happy_df2], ignore_index=True).drop_duplicates(subset=['song names'])\n",
    "happy_df['mood'] = 'happy'\n",
    "happy_df"
   ]
  }
 ],
 "metadata": {
  "kernelspec": {
   "display_name": "Python 3",
   "language": "python",
   "name": "python3"
  },
  "language_info": {
   "codemirror_mode": {
    "name": "ipython",
    "version": 3
   },
   "file_extension": ".py",
   "mimetype": "text/x-python",
   "name": "python",
   "nbconvert_exporter": "python",
   "pygments_lexer": "ipython3",
   "version": "3.11.5"
  }
 },
 "nbformat": 4,
 "nbformat_minor": 2
}
