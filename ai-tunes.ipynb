{
 "cells": [
  {
   "cell_type": "code",
   "execution_count": null,
   "metadata": {},
   "outputs": [],
   "source": [
    "#alejandro briones\n",
    "#chris kontsis\n",
    "#sheil patel\n",
    "#cse471 capstone \n",
    "\n",
    "#dev env completed\n",
    "from google.colab import files\n",
    "files.upload()"
   ]
  },
  {
   "cell_type": "code",
   "execution_count": null,
   "metadata": {},
   "outputs": [],
   "source": [
    "!rm -r ~/.kaggle\n",
    "!mkdir ~/.kaggle\n",
    "!mv ./kaggle.json ~/.kaggle/\n",
    "!chmod 600 ~/.kaggle/kaggle.json"
   ]
  },
  {
   "cell_type": "code",
   "execution_count": null,
   "metadata": {},
   "outputs": [],
   "source": [
    "!kaggle datasets download -d geomack/spotifyclassification"
   ]
  },
  {
   "cell_type": "code",
   "execution_count": null,
   "metadata": {},
   "outputs": [],
   "source": [
    "import zipfile\n",
    "zip_ref = zipfile.ZipFile('spotifyclassification.zip', 'r')\n",
    "zip_ref.extractall('/content')\n",
    "zip_ref.close()"
   ]
  },
  {
   "cell_type": "code",
   "execution_count": null,
   "metadata": {},
   "outputs": [],
   "source": [
    "#import necesssary data analysis libraries\n",
    "\n",
    "import numpy as np # linear algebra\n",
    "import pandas as pd # data preprocessing\n",
    "import matplotlib.pyplot as plt\n",
    "import matplotlib.ticker as ticker\n",
    "from sklearn import datasets, linear_model\n",
    "from sklearn.decomposition import PCA\n",
    "from sklearn.preprocessing import MinMaxScaler\n",
    "from sklearn.manifold import TSNE\n",
    "\n",
    "%matplotlib inline\n",
    "\n",
    "data_frame = pd.read_csv(\"../content/data.csv\")\n",
    "data_frame = data_frame.drop(\"Unnamed: 0\", axis=\"columns\")\n",
    "data_frame.head()"
   ]
  },
  {
   "cell_type": "code",
   "execution_count": null,
   "metadata": {},
   "outputs": [],
   "source": [
    "chosen = [\"energy\", \"liveness\", \"tempo\", \"valence\", \"loudness\", \"speechiness\", \"acousticness\", \"danceability\", \"instrumentalness\"]\n",
    "text1 = data_frame[\"artist\"] + \" - \" + data_frame[\"song_title\"]\n",
    "text2 = text1.values\n",
    "\n",
    "# X = data_frame.drop(droppable, axis=1).values\n",
    "X = data_frame[chosen].values\n",
    "y = data_frame[\"danceability\"].values\n",
    "\n",
    "min_max_scaler = MinMaxScaler()\n",
    "X = min_max_scaler.fit_transform(X)\n",
    "\n",
    "pca = PCA(n_components=3)\n",
    "pca.fit(X)\n",
    "\n",
    "X = pca.transform(X)\n",
    "\n",
    "import plotly.offline as py\n",
    "py.init_notebook_mode(connected=True)\n",
    "import plotly.graph_objs as go\n",
    "import plotly.tools as tls\n",
    "\n",
    "trace = go.Scatter3d(\n",
    "    x=X[:,0],\n",
    "    y=X[:,1],\n",
    "    z=X[:,2],\n",
    "    text=text2,\n",
    "    mode=\"markers\",\n",
    "    marker=dict(\n",
    "        size=8,\n",
    "        color=y\n",
    "    )\n",
    ")\n",
    "\n",
    "fig = go.Figure(data=[trace])\n",
    "py.iplot(fig, filename=\"test-graph\")\n",
    "fig.show()"
   ]
  },
  {
   "cell_type": "code",
   "execution_count": null,
   "metadata": {},
   "outputs": [],
   "source": [
    "chosen = [\"energy\", \"liveness\", \"tempo\", \"valence\"]\n",
    "text1 = data_frame[\"artist\"] + \" - \" + data_frame[\"song_title\"]\n",
    "text2 = text1.values\n",
    "\n",
    "# X = data_frame.drop(droppable, axis=1).values\n",
    "X = data_frame[chosen].values\n",
    "y = data_frame[\"loudness\"].values\n",
    "\n",
    "min_max_scaler = MinMaxScaler()\n",
    "X = min_max_scaler.fit_transform(X)\n",
    "\n",
    "pca = PCA(n_components=2)\n",
    "pca.fit(X)\n",
    "\n",
    "X = pca.transform(X)\n",
    "\n",
    "fig = {\n",
    "    \"data\": [\n",
    "        {\n",
    "            \"x\": X[:, 0],\n",
    "            \"y\": X[:, 1],\n",
    "            \"text\": text2,\n",
    "            \"mode\": \"markers\",\n",
    "            \"marker\": {\"size\": 8, \"color\": y}\n",
    "        }\n",
    "    ],\n",
    "    \"layout\": {\n",
    "        \"xaxis\": {\"title\": \"How hard is this to dance to?\"},\n",
    "        \"yaxis\": {\"title\": \"How metal is this?\"}\n",
    "    }\n",
    "}\n",
    "\n",
    "py.iplot(fig, filename=\"test-graph2\")"
   ]
  },
  {
   "cell_type": "code",
   "execution_count": null,
   "metadata": {},
   "outputs": [],
   "source": [
    "#Elbow test to determine number of clusters for k-means\n",
    "from sklearn.cluster import KMeans\n",
    "from sklearn.preprocessing import StandardScaler\n",
    "selectedElbowFeatures = data_frame[['acousticness', 'danceability', 'duration_ms','energy','instrumentalness','key','liveness','loudness','speechiness','tempo','valence']]\n",
    "scaler = StandardScaler()\n",
    "scaled_features = scaler.fit_transform(selectedElbowFeatures)\n",
    "\n",
    "wcss = []\n",
    "\n",
    "for i in range(1, 11):\n",
    "    kmeans1 = KMeans(n_clusters=i, init='k-means++', max_iter=300, n_init=10, random_state=0)\n",
    "    kmeans1.fit(scaled_features)\n",
    "    wcss.append(kmeans1.inertia_)\n",
    "\n",
    "# Plotting the results onto a line graph\n",
    "plt.figure(figsize=(10,5))\n",
    "plt.plot(range(1, 11), wcss, marker='o', linestyle='--')\n",
    "plt.title('Elbow Method')\n",
    "plt.xlabel('Number of clusters')\n",
    "plt.ylabel('WCSS')\n",
    "plt.show()"
   ]
  }
 ],
 "metadata": {
  "language_info": {
   "name": "python"
  }
 },
 "nbformat": 4,
 "nbformat_minor": 2
}
