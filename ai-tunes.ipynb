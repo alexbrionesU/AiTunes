{
 "cells": [
  {
   "cell_type": "code",
   "execution_count": null,
   "metadata": {},
   "outputs": [],
   "source": [
    "#alejandro briones\n",
    "#chris kontsis\n",
    "#sheil patel\n",
    "#cse471 capstone \n",
    "\n",
    "#dev env completed"
   ]
  }
 ],
 "metadata": {
  "language_info": {
   "name": "python"
  }
 },
 "nbformat": 4,
 "nbformat_minor": 2
}
